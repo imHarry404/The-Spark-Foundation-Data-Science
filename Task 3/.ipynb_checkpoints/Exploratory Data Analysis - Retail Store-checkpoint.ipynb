{
 "cells": [
  {
   "cell_type": "markdown",
   "id": "af1ab6f9",
   "metadata": {},
   "source": [
    "# Exploratory Data Analysis - Retail Store"
   ]
  },
  {
   "cell_type": "markdown",
   "id": "e31eb2f2",
   "metadata": {},
   "source": [
    "## Beginner Level Task3\n"
   ]
  },
  {
   "cell_type": "markdown",
   "id": "c8a7a406",
   "metadata": {},
   "source": [
    "## Hariom Kumar"
   ]
  },
  {
   "cell_type": "markdown",
   "id": "9b593afb",
   "metadata": {},
   "source": [
    "## The Sparks Foundation. "
   ]
  },
  {
   "cell_type": "markdown",
   "id": "4eebacfd",
   "metadata": {},
   "source": [
    "### Import libraries"
   ]
  },
  {
   "cell_type": "code",
   "execution_count": 1,
   "id": "50bd9d62",
   "metadata": {},
   "outputs": [
    {
     "name": "stdout",
     "output_type": "stream",
     "text": [
      "Collecting mplcursors\n",
      "  Downloading mplcursors-0.4.tar.gz (86 kB)\n",
      "Requirement already satisfied: matplotlib>=3.1 in c:\\users\\hario\\appdata\\local\\programs\\python\\python39\\lib\\site-packages (from mplcursors) (3.4.2)\n",
      "Requirement already satisfied: numpy>=1.16 in c:\\users\\hario\\appdata\\local\\programs\\python\\python39\\lib\\site-packages (from matplotlib>=3.1->mplcursors) (1.19.5)\n",
      "Requirement already satisfied: kiwisolver>=1.0.1 in c:\\users\\hario\\appdata\\local\\programs\\python\\python39\\lib\\site-packages (from matplotlib>=3.1->mplcursors) (1.3.1)\n",
      "Requirement already satisfied: cycler>=0.10 in c:\\users\\hario\\appdata\\local\\programs\\python\\python39\\lib\\site-packages (from matplotlib>=3.1->mplcursors) (0.10.0)\n",
      "Requirement already satisfied: python-dateutil>=2.7 in c:\\users\\hario\\appdata\\local\\programs\\python\\python39\\lib\\site-packages (from matplotlib>=3.1->mplcursors) (2.8.2)\n",
      "Requirement already satisfied: pyparsing>=2.2.1 in c:\\users\\hario\\appdata\\local\\programs\\python\\python39\\lib\\site-packages (from matplotlib>=3.1->mplcursors) (2.4.7)\n",
      "Requirement already satisfied: pillow>=6.2.0 in c:\\users\\hario\\appdata\\local\\programs\\python\\python39\\lib\\site-packages (from matplotlib>=3.1->mplcursors) (8.3.1)\n",
      "Requirement already satisfied: six in c:\\users\\hario\\appdata\\local\\programs\\python\\python39\\lib\\site-packages (from cycler>=0.10->matplotlib>=3.1->mplcursors) (1.15.0)\n",
      "Building wheels for collected packages: mplcursors\n",
      "  Building wheel for mplcursors (setup.py): started\n",
      "  Building wheel for mplcursors (setup.py): finished with status 'done'\n",
      "  Created wheel for mplcursors: filename=mplcursors-0.4-py3-none-any.whl size=19973 sha256=101e29f6a3bc1b2f2cfab10c10c3801aaddf2b7a1f7662eb36cf13be24c6af7d\n",
      "  Stored in directory: c:\\users\\hario\\appdata\\local\\pip\\cache\\wheels\\1b\\f2\\45\\5b648d81740a41fdce9e138936821c3cce05c4ba1d3ffb914a\n",
      "Successfully built mplcursors\n",
      "Installing collected packages: mplcursors\n",
      "Successfully installed mplcursors-0.4\n"
     ]
    }
   ],
   "source": [
    "!pip install mplcursors"
   ]
  },
  {
   "cell_type": "code",
   "execution_count": 2,
   "id": "39ef47c1",
   "metadata": {},
   "outputs": [],
   "source": [
    "import pandas as pd\n",
    "import matplotlib.pyplot as plt\n",
    "import matplotlib\n",
    "import mplcursors\n",
    "import seaborn as sns"
   ]
  },
  {
   "cell_type": "markdown",
   "id": "d9dd401c",
   "metadata": {},
   "source": [
    "### Drop unwanted columns"
   ]
  },
  {
   "cell_type": "code",
   "execution_count": 3,
   "id": "191159b1",
   "metadata": {
    "scrolled": true
   },
   "outputs": [
    {
     "data": {
      "text/html": [
       "<div>\n",
       "<style scoped>\n",
       "    .dataframe tbody tr th:only-of-type {\n",
       "        vertical-align: middle;\n",
       "    }\n",
       "\n",
       "    .dataframe tbody tr th {\n",
       "        vertical-align: top;\n",
       "    }\n",
       "\n",
       "    .dataframe thead th {\n",
       "        text-align: right;\n",
       "    }\n",
       "</style>\n",
       "<table border=\"1\" class=\"dataframe\">\n",
       "  <thead>\n",
       "    <tr style=\"text-align: right;\">\n",
       "      <th></th>\n",
       "      <th>Ship Mode</th>\n",
       "      <th>Segment</th>\n",
       "      <th>Country</th>\n",
       "      <th>City</th>\n",
       "      <th>State</th>\n",
       "      <th>Postal Code</th>\n",
       "      <th>Region</th>\n",
       "      <th>Category</th>\n",
       "      <th>Sub-Category</th>\n",
       "      <th>Sales</th>\n",
       "      <th>Quantity</th>\n",
       "      <th>Discount</th>\n",
       "      <th>Profit</th>\n",
       "    </tr>\n",
       "  </thead>\n",
       "  <tbody>\n",
       "    <tr>\n",
       "      <th>0</th>\n",
       "      <td>Second Class</td>\n",
       "      <td>Consumer</td>\n",
       "      <td>United States</td>\n",
       "      <td>Henderson</td>\n",
       "      <td>Kentucky</td>\n",
       "      <td>42420</td>\n",
       "      <td>South</td>\n",
       "      <td>Furniture</td>\n",
       "      <td>Bookcases</td>\n",
       "      <td>261.9600</td>\n",
       "      <td>2</td>\n",
       "      <td>0.00</td>\n",
       "      <td>41.9136</td>\n",
       "    </tr>\n",
       "    <tr>\n",
       "      <th>1</th>\n",
       "      <td>Second Class</td>\n",
       "      <td>Consumer</td>\n",
       "      <td>United States</td>\n",
       "      <td>Henderson</td>\n",
       "      <td>Kentucky</td>\n",
       "      <td>42420</td>\n",
       "      <td>South</td>\n",
       "      <td>Furniture</td>\n",
       "      <td>Chairs</td>\n",
       "      <td>731.9400</td>\n",
       "      <td>3</td>\n",
       "      <td>0.00</td>\n",
       "      <td>219.5820</td>\n",
       "    </tr>\n",
       "    <tr>\n",
       "      <th>2</th>\n",
       "      <td>Second Class</td>\n",
       "      <td>Corporate</td>\n",
       "      <td>United States</td>\n",
       "      <td>Los Angeles</td>\n",
       "      <td>California</td>\n",
       "      <td>90036</td>\n",
       "      <td>West</td>\n",
       "      <td>Office Supplies</td>\n",
       "      <td>Labels</td>\n",
       "      <td>14.6200</td>\n",
       "      <td>2</td>\n",
       "      <td>0.00</td>\n",
       "      <td>6.8714</td>\n",
       "    </tr>\n",
       "    <tr>\n",
       "      <th>3</th>\n",
       "      <td>Standard Class</td>\n",
       "      <td>Consumer</td>\n",
       "      <td>United States</td>\n",
       "      <td>Fort Lauderdale</td>\n",
       "      <td>Florida</td>\n",
       "      <td>33311</td>\n",
       "      <td>South</td>\n",
       "      <td>Furniture</td>\n",
       "      <td>Tables</td>\n",
       "      <td>957.5775</td>\n",
       "      <td>5</td>\n",
       "      <td>0.45</td>\n",
       "      <td>-383.0310</td>\n",
       "    </tr>\n",
       "    <tr>\n",
       "      <th>4</th>\n",
       "      <td>Standard Class</td>\n",
       "      <td>Consumer</td>\n",
       "      <td>United States</td>\n",
       "      <td>Fort Lauderdale</td>\n",
       "      <td>Florida</td>\n",
       "      <td>33311</td>\n",
       "      <td>South</td>\n",
       "      <td>Office Supplies</td>\n",
       "      <td>Storage</td>\n",
       "      <td>22.3680</td>\n",
       "      <td>2</td>\n",
       "      <td>0.20</td>\n",
       "      <td>2.5164</td>\n",
       "    </tr>\n",
       "  </tbody>\n",
       "</table>\n",
       "</div>"
      ],
      "text/plain": [
       "        Ship Mode    Segment        Country             City       State  \\\n",
       "0    Second Class   Consumer  United States        Henderson    Kentucky   \n",
       "1    Second Class   Consumer  United States        Henderson    Kentucky   \n",
       "2    Second Class  Corporate  United States      Los Angeles  California   \n",
       "3  Standard Class   Consumer  United States  Fort Lauderdale     Florida   \n",
       "4  Standard Class   Consumer  United States  Fort Lauderdale     Florida   \n",
       "\n",
       "   Postal Code Region         Category Sub-Category     Sales  Quantity  \\\n",
       "0        42420  South        Furniture    Bookcases  261.9600         2   \n",
       "1        42420  South        Furniture       Chairs  731.9400         3   \n",
       "2        90036   West  Office Supplies       Labels   14.6200         2   \n",
       "3        33311  South        Furniture       Tables  957.5775         5   \n",
       "4        33311  South  Office Supplies      Storage   22.3680         2   \n",
       "\n",
       "   Discount    Profit  \n",
       "0      0.00   41.9136  \n",
       "1      0.00  219.5820  \n",
       "2      0.00    6.8714  \n",
       "3      0.45 -383.0310  \n",
       "4      0.20    2.5164  "
      ]
     },
     "execution_count": 3,
     "metadata": {},
     "output_type": "execute_result"
    }
   ],
   "source": [
    "df=pd.read_csv(\"SampleSuperstore.csv\")\n",
    "df.head()"
   ]
  },
  {
   "cell_type": "markdown",
   "id": "a6c3f4a1",
   "metadata": {},
   "source": [
    "### Get insights about datase"
   ]
  },
  {
   "cell_type": "code",
   "execution_count": 4,
   "id": "ce6c0c47",
   "metadata": {},
   "outputs": [
    {
     "data": {
      "text/html": [
       "<div>\n",
       "<style scoped>\n",
       "    .dataframe tbody tr th:only-of-type {\n",
       "        vertical-align: middle;\n",
       "    }\n",
       "\n",
       "    .dataframe tbody tr th {\n",
       "        vertical-align: top;\n",
       "    }\n",
       "\n",
       "    .dataframe thead th {\n",
       "        text-align: right;\n",
       "    }\n",
       "</style>\n",
       "<table border=\"1\" class=\"dataframe\">\n",
       "  <thead>\n",
       "    <tr style=\"text-align: right;\">\n",
       "      <th></th>\n",
       "      <th>Postal Code</th>\n",
       "      <th>Sales</th>\n",
       "      <th>Quantity</th>\n",
       "      <th>Discount</th>\n",
       "      <th>Profit</th>\n",
       "    </tr>\n",
       "  </thead>\n",
       "  <tbody>\n",
       "    <tr>\n",
       "      <th>count</th>\n",
       "      <td>9994.000000</td>\n",
       "      <td>9994.000000</td>\n",
       "      <td>9994.000000</td>\n",
       "      <td>9994.000000</td>\n",
       "      <td>9994.000000</td>\n",
       "    </tr>\n",
       "    <tr>\n",
       "      <th>mean</th>\n",
       "      <td>55190.379428</td>\n",
       "      <td>229.858001</td>\n",
       "      <td>3.789574</td>\n",
       "      <td>0.156203</td>\n",
       "      <td>28.656896</td>\n",
       "    </tr>\n",
       "    <tr>\n",
       "      <th>std</th>\n",
       "      <td>32063.693350</td>\n",
       "      <td>623.245101</td>\n",
       "      <td>2.225110</td>\n",
       "      <td>0.206452</td>\n",
       "      <td>234.260108</td>\n",
       "    </tr>\n",
       "    <tr>\n",
       "      <th>min</th>\n",
       "      <td>1040.000000</td>\n",
       "      <td>0.444000</td>\n",
       "      <td>1.000000</td>\n",
       "      <td>0.000000</td>\n",
       "      <td>-6599.978000</td>\n",
       "    </tr>\n",
       "    <tr>\n",
       "      <th>25%</th>\n",
       "      <td>23223.000000</td>\n",
       "      <td>17.280000</td>\n",
       "      <td>2.000000</td>\n",
       "      <td>0.000000</td>\n",
       "      <td>1.728750</td>\n",
       "    </tr>\n",
       "    <tr>\n",
       "      <th>50%</th>\n",
       "      <td>56430.500000</td>\n",
       "      <td>54.490000</td>\n",
       "      <td>3.000000</td>\n",
       "      <td>0.200000</td>\n",
       "      <td>8.666500</td>\n",
       "    </tr>\n",
       "    <tr>\n",
       "      <th>75%</th>\n",
       "      <td>90008.000000</td>\n",
       "      <td>209.940000</td>\n",
       "      <td>5.000000</td>\n",
       "      <td>0.200000</td>\n",
       "      <td>29.364000</td>\n",
       "    </tr>\n",
       "    <tr>\n",
       "      <th>max</th>\n",
       "      <td>99301.000000</td>\n",
       "      <td>22638.480000</td>\n",
       "      <td>14.000000</td>\n",
       "      <td>0.800000</td>\n",
       "      <td>8399.976000</td>\n",
       "    </tr>\n",
       "  </tbody>\n",
       "</table>\n",
       "</div>"
      ],
      "text/plain": [
       "        Postal Code         Sales     Quantity     Discount       Profit\n",
       "count   9994.000000   9994.000000  9994.000000  9994.000000  9994.000000\n",
       "mean   55190.379428    229.858001     3.789574     0.156203    28.656896\n",
       "std    32063.693350    623.245101     2.225110     0.206452   234.260108\n",
       "min     1040.000000      0.444000     1.000000     0.000000 -6599.978000\n",
       "25%    23223.000000     17.280000     2.000000     0.000000     1.728750\n",
       "50%    56430.500000     54.490000     3.000000     0.200000     8.666500\n",
       "75%    90008.000000    209.940000     5.000000     0.200000    29.364000\n",
       "max    99301.000000  22638.480000    14.000000     0.800000  8399.976000"
      ]
     },
     "execution_count": 4,
     "metadata": {},
     "output_type": "execute_result"
    }
   ],
   "source": [
    "df.describe()"
   ]
  },
  {
   "cell_type": "code",
   "execution_count": 5,
   "id": "4c174435",
   "metadata": {},
   "outputs": [
    {
     "name": "stdout",
     "output_type": "stream",
     "text": [
      "<class 'pandas.core.frame.DataFrame'>\n",
      "RangeIndex: 9994 entries, 0 to 9993\n",
      "Data columns (total 13 columns):\n",
      " #   Column        Non-Null Count  Dtype  \n",
      "---  ------        --------------  -----  \n",
      " 0   Ship Mode     9994 non-null   object \n",
      " 1   Segment       9994 non-null   object \n",
      " 2   Country       9994 non-null   object \n",
      " 3   City          9994 non-null   object \n",
      " 4   State         9994 non-null   object \n",
      " 5   Postal Code   9994 non-null   int64  \n",
      " 6   Region        9994 non-null   object \n",
      " 7   Category      9994 non-null   object \n",
      " 8   Sub-Category  9994 non-null   object \n",
      " 9   Sales         9994 non-null   float64\n",
      " 10  Quantity      9994 non-null   int64  \n",
      " 11  Discount      9994 non-null   float64\n",
      " 12  Profit        9994 non-null   float64\n",
      "dtypes: float64(3), int64(2), object(8)\n",
      "memory usage: 1015.1+ KB\n"
     ]
    }
   ],
   "source": [
    "df.info()"
   ]
  },
  {
   "cell_type": "markdown",
   "id": "62fbcf6b",
   "metadata": {},
   "source": [
    "### Find sales for each cateory and subcategory"
   ]
  },
  {
   "cell_type": "code",
   "execution_count": 6,
   "id": "0185daa5",
   "metadata": {},
   "outputs": [
    {
     "data": {
      "text/html": [
       "<div>\n",
       "<style scoped>\n",
       "    .dataframe tbody tr th:only-of-type {\n",
       "        vertical-align: middle;\n",
       "    }\n",
       "\n",
       "    .dataframe tbody tr th {\n",
       "        vertical-align: top;\n",
       "    }\n",
       "\n",
       "    .dataframe thead th {\n",
       "        text-align: right;\n",
       "    }\n",
       "</style>\n",
       "<table border=\"1\" class=\"dataframe\">\n",
       "  <thead>\n",
       "    <tr style=\"text-align: right;\">\n",
       "      <th></th>\n",
       "      <th>Category</th>\n",
       "      <th>Sales</th>\n",
       "    </tr>\n",
       "  </thead>\n",
       "  <tbody>\n",
       "    <tr>\n",
       "      <th>0</th>\n",
       "      <td>Furniture</td>\n",
       "      <td>741999.7953</td>\n",
       "    </tr>\n",
       "    <tr>\n",
       "      <th>1</th>\n",
       "      <td>Office Supplies</td>\n",
       "      <td>719047.0320</td>\n",
       "    </tr>\n",
       "    <tr>\n",
       "      <th>2</th>\n",
       "      <td>Technology</td>\n",
       "      <td>836154.0330</td>\n",
       "    </tr>\n",
       "  </tbody>\n",
       "</table>\n",
       "</div>"
      ],
      "text/plain": [
       "          Category        Sales\n",
       "0        Furniture  741999.7953\n",
       "1  Office Supplies  719047.0320\n",
       "2       Technology  836154.0330"
      ]
     },
     "execution_count": 6,
     "metadata": {},
     "output_type": "execute_result"
    }
   ],
   "source": [
    "sales_df = df.groupby('Category', as_index=False)['Sales'].sum()\n",
    "subcat_df = df.groupby(['Category','Sub-Category'])['Sales'].sum()\n",
    "subcat_df['Sales']=map(int,subcat_df)\n",
    "sales_df"
   ]
  },
  {
   "cell_type": "markdown",
   "id": "8c27c724",
   "metadata": {},
   "source": [
    "### Visualising sales for each category and subcategory"
   ]
  },
  {
   "cell_type": "code",
   "execution_count": 7,
   "id": "8247f286",
   "metadata": {},
   "outputs": [
    {
     "data": {
      "image/png": "[encoded data removed]",
      "text/plain": [
       "<Figure size 720x360 with 1 Axes>"
      ]
     },
     "metadata": {
      "needs_background": "light"
     },
     "output_type": "display_data"
    }
   ],
   "source": [
    "fig,ax = plt.subplots(figsize=(10,5))\n",
    "ax.bar(sales_df['Category'],sales_df['Sales'],color='#51d620',edgecolor='#1b470a',width=0.3) \n",
    "ax.set_title(label=\"Sales for each Category and sub-category\", loc='center', pad=None)\n",
    "ax.set_ylabel('Sales')\n",
    "ax.set_xlabel('Category')\n",
    "crs=mplcursors.cursor(ax,hover=True)\n",
    "@crs.connect(\"add\")\n",
    "def on_add(sel):\n",
    "    x, y, width, height = sel.artist[sel.target.index].get_bbox().bounds\n",
    "    pos=int(x+width/2)\n",
    "    if pos == 0:\n",
    "        text=''\n",
    "        for i in range(4):\n",
    "            text=text+'\\n'+subcat_df.index[i][1]+':'+str(int(subcat_df[i]))\n",
    "    elif pos == 1:\n",
    "        text=''\n",
    "        for i in range(9):\n",
    "            text=text+'\\n'+subcat_df.index[i+4][1]+' : '+str(int(subcat_df[i]))\n",
    "    else:\n",
    "        text=''\n",
    "        for i in range(4):\n",
    "            text=text+'\\n'+subcat_df.index[i+13][1]+':'+str(int(subcat_df[i]))\n",
    "    \n",
    "    sel.annotation.set(text=text, position=(pos, 70000))\n",
    "    sel.annotation.xy = (x + width / 2, y + height)\n",
    "\n"
   ]
  },
  {
   "cell_type": "markdown",
   "id": "817bcee5",
   "metadata": {},
   "source": [
    "### Subcategories and their sales can be seen upon hovering the respective Categories"
   ]
  },
  {
   "cell_type": "markdown",
   "id": "14ee07fa",
   "metadata": {},
   "source": [
    "### Find profits for each state"
   ]
  },
  {
   "cell_type": "code",
   "execution_count": 8,
   "id": "92eccfcc",
   "metadata": {},
   "outputs": [
    {
     "data": {
      "text/html": [
       "<div>\n",
       "<style scoped>\n",
       "    .dataframe tbody tr th:only-of-type {\n",
       "        vertical-align: middle;\n",
       "    }\n",
       "\n",
       "    .dataframe tbody tr th {\n",
       "        vertical-align: top;\n",
       "    }\n",
       "\n",
       "    .dataframe thead th {\n",
       "        text-align: right;\n",
       "    }\n",
       "</style>\n",
       "<table border=\"1\" class=\"dataframe\">\n",
       "  <thead>\n",
       "    <tr style=\"text-align: right;\">\n",
       "      <th></th>\n",
       "      <th>State</th>\n",
       "      <th>Profit</th>\n",
       "    </tr>\n",
       "  </thead>\n",
       "  <tbody>\n",
       "    <tr>\n",
       "      <th>0</th>\n",
       "      <td>Alabama</td>\n",
       "      <td>5786.8253</td>\n",
       "    </tr>\n",
       "    <tr>\n",
       "      <th>1</th>\n",
       "      <td>Arizona</td>\n",
       "      <td>-3427.9246</td>\n",
       "    </tr>\n",
       "    <tr>\n",
       "      <th>2</th>\n",
       "      <td>Arkansas</td>\n",
       "      <td>4008.6871</td>\n",
       "    </tr>\n",
       "    <tr>\n",
       "      <th>3</th>\n",
       "      <td>California</td>\n",
       "      <td>76381.3871</td>\n",
       "    </tr>\n",
       "    <tr>\n",
       "      <th>4</th>\n",
       "      <td>Colorado</td>\n",
       "      <td>-6527.8579</td>\n",
       "    </tr>\n",
       "  </tbody>\n",
       "</table>\n",
       "</div>"
      ],
      "text/plain": [
       "        State      Profit\n",
       "0     Alabama   5786.8253\n",
       "1     Arizona  -3427.9246\n",
       "2    Arkansas   4008.6871\n",
       "3  California  76381.3871\n",
       "4    Colorado  -6527.8579"
      ]
     },
     "execution_count": 8,
     "metadata": {},
     "output_type": "execute_result"
    }
   ],
   "source": [
    "prof_df = df.groupby('State', as_index=False)['Profit'].sum()\n",
    "prof_df.head()"
   ]
  },
  {
   "cell_type": "markdown",
   "id": "f960cabd",
   "metadata": {},
   "source": [
    "### The graph shows us the overall profit as well as loss (negative values) for each state.\n",
    "##The profit/loss is calculated by adding individual values for each state"
   ]
  },
  {
   "cell_type": "markdown",
   "id": "a1ccdc71",
   "metadata": {},
   "source": [
    "#fig,ax = plt.subplots(figsize=(10,6))\n",
    "ax.bar(prof_df['State'],prof_df['Profit'],color='#e687a2',edgecolor='#de124c') \n",
    "ax.set_title(label=\"Total Profit for each State\", loc='center', pad=None)\n",
    "ax.set_ylabel('Profit')\n",
    "ax.set_xlabel('State')\n",
    "ax.set_xticklabels(prof_df['State'],rotation=90)\n",
    "plt.tight_layout();"
   ]
  },
  {
   "cell_type": "markdown",
   "id": "6435ffed",
   "metadata": {},
   "source": [
    "#### This plot shows us the range of profit for each discount value. The maximum, minimum as well as median range for each discount value is shown. (Outliers are not shown for better visualisation)"
   ]
  },
  {
   "cell_type": "code",
   "execution_count": 9,
   "id": "8c75d714",
   "metadata": {},
   "outputs": [
    {
     "data": {
      "text/plain": [
       "<AxesSubplot:title={'center':'Profit'}, xlabel='Discount'>"
      ]
     },
     "execution_count": 9,
     "metadata": {},
     "output_type": "execute_result"
    },
    {
     "data": {
      "image/png": "[encoded data removed]",
      "text/plain": [
       "<Figure size 720x432 with 1 Axes>"
      ]
     },
     "metadata": {
      "needs_background": "light"
     },
     "output_type": "display_data"
    }
   ],
   "source": [
    "props = dict(boxes=\"c\", medians=\"Black\", caps=\"black\")\n",
    "df.boxplot(by='Discount', column='Profit',showfliers=False,figsize=(10,6),patch_artist=True,color=props)\n"
   ]
  },
  {
   "cell_type": "markdown",
   "id": "678ef7c4",
   "metadata": {},
   "source": [
    "### Now lets start Analysing Loss based on various factors"
   ]
  },
  {
   "cell_type": "markdown",
   "id": "29217db6",
   "metadata": {},
   "source": [
    "###  Based on State"
   ]
  },
  {
   "cell_type": "markdown",
   "id": "469f3e52",
   "metadata": {},
   "source": [
    "### First we will get all the states which faced loss and find their total profit/loss across all items"
   ]
  },
  {
   "cell_type": "code",
   "execution_count": 10,
   "id": "a221e6c6",
   "metadata": {},
   "outputs": [
    {
     "data": {
      "text/html": [
       "<div>\n",
       "<style scoped>\n",
       "    .dataframe tbody tr th:only-of-type {\n",
       "        vertical-align: middle;\n",
       "    }\n",
       "\n",
       "    .dataframe tbody tr th {\n",
       "        vertical-align: top;\n",
       "    }\n",
       "\n",
       "    .dataframe thead th {\n",
       "        text-align: right;\n",
       "    }\n",
       "</style>\n",
       "<table border=\"1\" class=\"dataframe\">\n",
       "  <thead>\n",
       "    <tr style=\"text-align: right;\">\n",
       "      <th></th>\n",
       "      <th>State</th>\n",
       "      <th>Profit</th>\n",
       "    </tr>\n",
       "  </thead>\n",
       "  <tbody>\n",
       "    <tr>\n",
       "      <th>1</th>\n",
       "      <td>Arizona</td>\n",
       "      <td>-3427.9246</td>\n",
       "    </tr>\n",
       "    <tr>\n",
       "      <th>4</th>\n",
       "      <td>Colorado</td>\n",
       "      <td>-6527.8579</td>\n",
       "    </tr>\n",
       "    <tr>\n",
       "      <th>8</th>\n",
       "      <td>Florida</td>\n",
       "      <td>-3399.3017</td>\n",
       "    </tr>\n",
       "    <tr>\n",
       "      <th>11</th>\n",
       "      <td>Illinois</td>\n",
       "      <td>-12607.8870</td>\n",
       "    </tr>\n",
       "    <tr>\n",
       "      <th>31</th>\n",
       "      <td>North Carolina</td>\n",
       "      <td>-7490.9122</td>\n",
       "    </tr>\n",
       "    <tr>\n",
       "      <th>33</th>\n",
       "      <td>Ohio</td>\n",
       "      <td>-16971.3766</td>\n",
       "    </tr>\n",
       "    <tr>\n",
       "      <th>35</th>\n",
       "      <td>Oregon</td>\n",
       "      <td>-1190.4705</td>\n",
       "    </tr>\n",
       "    <tr>\n",
       "      <th>36</th>\n",
       "      <td>Pennsylvania</td>\n",
       "      <td>-15559.9603</td>\n",
       "    </tr>\n",
       "    <tr>\n",
       "      <th>40</th>\n",
       "      <td>Tennessee</td>\n",
       "      <td>-5341.6936</td>\n",
       "    </tr>\n",
       "    <tr>\n",
       "      <th>41</th>\n",
       "      <td>Texas</td>\n",
       "      <td>-25729.3563</td>\n",
       "    </tr>\n",
       "  </tbody>\n",
       "</table>\n",
       "</div>"
      ],
      "text/plain": [
       "             State      Profit\n",
       "1          Arizona  -3427.9246\n",
       "4         Colorado  -6527.8579\n",
       "8          Florida  -3399.3017\n",
       "11        Illinois -12607.8870\n",
       "31  North Carolina  -7490.9122\n",
       "33            Ohio -16971.3766\n",
       "35          Oregon  -1190.4705\n",
       "36    Pennsylvania -15559.9603\n",
       "40       Tennessee  -5341.6936\n",
       "41           Texas -25729.3563"
      ]
     },
     "execution_count": 10,
     "metadata": {},
     "output_type": "execute_result"
    }
   ],
   "source": [
    "state_neg=prof_df.loc[prof_df.Profit < 0]\n",
    "state_neg"
   ]
  },
  {
   "cell_type": "code",
   "execution_count": 11,
   "id": "544075e7",
   "metadata": {
    "scrolled": true
   },
   "outputs": [
    {
     "data": {
      "image/png": "[encoded data removed]",
      "text/plain": [
       "<Figure size 720x360 with 1 Axes>"
      ]
     },
     "metadata": {
      "needs_background": "light"
     },
     "output_type": "display_data"
    }
   ],
   "source": [
    "fig,ax = plt.subplots(figsize=(10,5))\n",
    "def plot_state(ax):\n",
    "    ax.bar(state_neg['State'],state_neg['Profit'],color='#e3c05f',edgecolor='black') \n",
    "#ax.legend(label, loc='upper center', fontsize='large',edgecolor='black', borderpad=1.0, shadow=True, handlelength=0)\n",
    "    ax.set_title(label=\"States which faced Loss\", loc='center', pad=None)\n",
    "    ax.set_ylabel('Loss')\n",
    "    ax.set_xlabel('States')\n",
    "plot_state(ax)\n",
    "plt.tight_layout()"
   ]
  },
  {
   "cell_type": "markdown",
   "id": "5aee506a",
   "metadata": {},
   "source": [
    "### Here we have visualised loss faced by various states. We can thus get the states which needs better deals to earn profit like:"
   ]
  },
  {
   "cell_type": "markdown",
   "id": "d2b6cf5d",
   "metadata": {},
   "source": [
    "1. TEXAS\n",
    "2. OHIO\n",
    "3. PENNSYLVANIA\n",
    "4. ILLINOIS"
   ]
  },
  {
   "cell_type": "markdown",
   "id": "244e3413",
   "metadata": {},
   "source": [
    "### 2. Based on Region"
   ]
  },
  {
   "cell_type": "markdown",
   "id": "054ca296",
   "metadata": {},
   "source": [
    "### We will find the count of losses faced by various states and visualise them based on their Region"
   ]
  },
  {
   "cell_type": "code",
   "execution_count": 12,
   "id": "cf67d644",
   "metadata": {},
   "outputs": [
    {
     "data": {
      "text/html": [
       "<div>\n",
       "<style scoped>\n",
       "    .dataframe tbody tr th:only-of-type {\n",
       "        vertical-align: middle;\n",
       "    }\n",
       "\n",
       "    .dataframe tbody tr th {\n",
       "        vertical-align: top;\n",
       "    }\n",
       "\n",
       "    .dataframe thead th {\n",
       "        text-align: right;\n",
       "    }\n",
       "</style>\n",
       "<table border=\"1\" class=\"dataframe\">\n",
       "  <thead>\n",
       "    <tr style=\"text-align: right;\">\n",
       "      <th></th>\n",
       "      <th>Region</th>\n",
       "      <th>State</th>\n",
       "      <th>Profit</th>\n",
       "    </tr>\n",
       "  </thead>\n",
       "  <tbody>\n",
       "    <tr>\n",
       "      <th>0</th>\n",
       "      <td>Central</td>\n",
       "      <td>Illinois</td>\n",
       "      <td>255</td>\n",
       "    </tr>\n",
       "    <tr>\n",
       "      <th>1</th>\n",
       "      <td>Central</td>\n",
       "      <td>Texas</td>\n",
       "      <td>486</td>\n",
       "    </tr>\n",
       "    <tr>\n",
       "      <th>8</th>\n",
       "      <td>East</td>\n",
       "      <td>New York</td>\n",
       "      <td>47</td>\n",
       "    </tr>\n",
       "    <tr>\n",
       "      <th>9</th>\n",
       "      <td>East</td>\n",
       "      <td>Ohio</td>\n",
       "      <td>209</td>\n",
       "    </tr>\n",
       "    <tr>\n",
       "      <th>10</th>\n",
       "      <td>East</td>\n",
       "      <td>Pennsylvania</td>\n",
       "      <td>278</td>\n",
       "    </tr>\n",
       "    <tr>\n",
       "      <th>13</th>\n",
       "      <td>South</td>\n",
       "      <td>Florida</td>\n",
       "      <td>126</td>\n",
       "    </tr>\n",
       "    <tr>\n",
       "      <th>14</th>\n",
       "      <td>South</td>\n",
       "      <td>North Carolina</td>\n",
       "      <td>68</td>\n",
       "    </tr>\n",
       "    <tr>\n",
       "      <th>15</th>\n",
       "      <td>South</td>\n",
       "      <td>Tennessee</td>\n",
       "      <td>65</td>\n",
       "    </tr>\n",
       "    <tr>\n",
       "      <th>16</th>\n",
       "      <td>West</td>\n",
       "      <td>Arizona</td>\n",
       "      <td>85</td>\n",
       "    </tr>\n",
       "    <tr>\n",
       "      <th>17</th>\n",
       "      <td>West</td>\n",
       "      <td>California</td>\n",
       "      <td>105</td>\n",
       "    </tr>\n",
       "    <tr>\n",
       "      <th>18</th>\n",
       "      <td>West</td>\n",
       "      <td>Colorado</td>\n",
       "      <td>66</td>\n",
       "    </tr>\n",
       "    <tr>\n",
       "      <th>21</th>\n",
       "      <td>West</td>\n",
       "      <td>Oregon</td>\n",
       "      <td>43</td>\n",
       "    </tr>\n",
       "  </tbody>\n",
       "</table>\n",
       "</div>"
      ],
      "text/plain": [
       "     Region           State  Profit\n",
       "0   Central        Illinois     255\n",
       "1   Central           Texas     486\n",
       "8      East        New York      47\n",
       "9      East            Ohio     209\n",
       "10     East    Pennsylvania     278\n",
       "13    South         Florida     126\n",
       "14    South  North Carolina      68\n",
       "15    South       Tennessee      65\n",
       "16     West         Arizona      85\n",
       "17     West      California     105\n",
       "18     West        Colorado      66\n",
       "21     West          Oregon      43"
      ]
     },
     "execution_count": 12,
     "metadata": {},
     "output_type": "execute_result"
    }
   ],
   "source": [
    "state_neg2=df.loc[df.Profit < 0].reset_index(drop=True)\n",
    "state_pos2=df.loc[df.Profit >= 0].reset_index(drop=True)\n",
    "dft=state_neg2.groupby(['Region','State'], as_index=False)['Profit'].count()\n",
    "dft=dft[dft.Profit > 40]\n",
    "dft"
   ]
  },
  {
   "cell_type": "code",
   "execution_count": 13,
   "id": "ef864e2f",
   "metadata": {},
   "outputs": [
    {
     "data": {
      "image/png": "[encoded data removed]",
      "text/plain": [
       "<Figure size 720x432 with 1 Axes>"
      ]
     },
     "metadata": {
      "needs_background": "light"
     },
     "output_type": "display_data"
    },
    {
     "data": {
      "text/plain": [
       "<Figure size 432x288 with 0 Axes>"
      ]
     },
     "metadata": {},
     "output_type": "display_data"
    }
   ],
   "source": [
    "fig,ax = plt.subplots(figsize=(10,6))\n",
    "def plot_region(ax):\n",
    "    d={'Central':'r','East':'b','South':'orange','West':'g'}\n",
    "    dft['color'] = dft['Region'].map(d)\n",
    "    sns.barplot(data=dft, x=dft.State, y='Profit', hue='Region', palette=d, dodge=False, edgecolor='black')\n",
    "    ax.set_xticklabels(dft['State'],rotation=90)\n",
    "    ax.set_title(label=\"Number of items faced loss in each state (Divided by Region)\", loc='center', pad=None)\n",
    "    ax.set_ylabel('Count')\n",
    "    ax.set_xlabel('State')\n",
    "    ax.legend(loc=1, fontsize='large',edgecolor='black', borderpad=1.0, title=\"Region\", shadow=True)\n",
    "    plt.show()\n",
    "plot_region(ax)\n",
    "plt.tight_layout()"
   ]
  },
  {
   "cell_type": "markdown",
   "id": "fef875ee",
   "metadata": {},
   "source": [
    "#### It can be seen that regions like CENTRAL and East have maximum loss count along with the specific states in that region"
   ]
  },
  {
   "cell_type": "markdown",
   "id": "0fbd25c2",
   "metadata": {},
   "source": [
    "### 3. Based on Category"
   ]
  },
  {
   "cell_type": "markdown",
   "id": "4192cc1b",
   "metadata": {},
   "source": [
    "Now we will plot total number of items belonging to each category which faced loss\n"
   ]
  },
  {
   "cell_type": "code",
   "execution_count": 14,
   "id": "ce1bd702",
   "metadata": {},
   "outputs": [
    {
     "data": {
      "text/html": [
       "<div>\n",
       "<style scoped>\n",
       "    .dataframe tbody tr th:only-of-type {\n",
       "        vertical-align: middle;\n",
       "    }\n",
       "\n",
       "    .dataframe tbody tr th {\n",
       "        vertical-align: top;\n",
       "    }\n",
       "\n",
       "    .dataframe thead th {\n",
       "        text-align: right;\n",
       "    }\n",
       "</style>\n",
       "<table border=\"1\" class=\"dataframe\">\n",
       "  <thead>\n",
       "    <tr style=\"text-align: right;\">\n",
       "      <th></th>\n",
       "      <th>Ship Mode</th>\n",
       "      <th>Segment</th>\n",
       "      <th>Country</th>\n",
       "      <th>City</th>\n",
       "      <th>State</th>\n",
       "      <th>Postal Code</th>\n",
       "      <th>Region</th>\n",
       "      <th>Category</th>\n",
       "      <th>Sub-Category</th>\n",
       "      <th>Sales</th>\n",
       "      <th>Quantity</th>\n",
       "      <th>Discount</th>\n",
       "      <th>Profit</th>\n",
       "    </tr>\n",
       "  </thead>\n",
       "  <tbody>\n",
       "    <tr>\n",
       "      <th>0</th>\n",
       "      <td>Second Class</td>\n",
       "      <td>Consumer</td>\n",
       "      <td>United States</td>\n",
       "      <td>Henderson</td>\n",
       "      <td>Kentucky</td>\n",
       "      <td>42420</td>\n",
       "      <td>South</td>\n",
       "      <td>Furniture</td>\n",
       "      <td>Bookcases</td>\n",
       "      <td>261.960</td>\n",
       "      <td>2</td>\n",
       "      <td>0.0</td>\n",
       "      <td>41.9136</td>\n",
       "    </tr>\n",
       "    <tr>\n",
       "      <th>1</th>\n",
       "      <td>Second Class</td>\n",
       "      <td>Consumer</td>\n",
       "      <td>United States</td>\n",
       "      <td>Henderson</td>\n",
       "      <td>Kentucky</td>\n",
       "      <td>42420</td>\n",
       "      <td>South</td>\n",
       "      <td>Furniture</td>\n",
       "      <td>Chairs</td>\n",
       "      <td>731.940</td>\n",
       "      <td>3</td>\n",
       "      <td>0.0</td>\n",
       "      <td>219.5820</td>\n",
       "    </tr>\n",
       "    <tr>\n",
       "      <th>2</th>\n",
       "      <td>Second Class</td>\n",
       "      <td>Corporate</td>\n",
       "      <td>United States</td>\n",
       "      <td>Los Angeles</td>\n",
       "      <td>California</td>\n",
       "      <td>90036</td>\n",
       "      <td>West</td>\n",
       "      <td>Office Supplies</td>\n",
       "      <td>Labels</td>\n",
       "      <td>14.620</td>\n",
       "      <td>2</td>\n",
       "      <td>0.0</td>\n",
       "      <td>6.8714</td>\n",
       "    </tr>\n",
       "    <tr>\n",
       "      <th>3</th>\n",
       "      <td>Standard Class</td>\n",
       "      <td>Consumer</td>\n",
       "      <td>United States</td>\n",
       "      <td>Fort Lauderdale</td>\n",
       "      <td>Florida</td>\n",
       "      <td>33311</td>\n",
       "      <td>South</td>\n",
       "      <td>Office Supplies</td>\n",
       "      <td>Storage</td>\n",
       "      <td>22.368</td>\n",
       "      <td>2</td>\n",
       "      <td>0.2</td>\n",
       "      <td>2.5164</td>\n",
       "    </tr>\n",
       "    <tr>\n",
       "      <th>4</th>\n",
       "      <td>Standard Class</td>\n",
       "      <td>Consumer</td>\n",
       "      <td>United States</td>\n",
       "      <td>Los Angeles</td>\n",
       "      <td>California</td>\n",
       "      <td>90032</td>\n",
       "      <td>West</td>\n",
       "      <td>Furniture</td>\n",
       "      <td>Furnishings</td>\n",
       "      <td>48.860</td>\n",
       "      <td>7</td>\n",
       "      <td>0.0</td>\n",
       "      <td>14.1694</td>\n",
       "    </tr>\n",
       "  </tbody>\n",
       "</table>\n",
       "</div>"
      ],
      "text/plain": [
       "        Ship Mode    Segment        Country             City       State  \\\n",
       "0    Second Class   Consumer  United States        Henderson    Kentucky   \n",
       "1    Second Class   Consumer  United States        Henderson    Kentucky   \n",
       "2    Second Class  Corporate  United States      Los Angeles  California   \n",
       "3  Standard Class   Consumer  United States  Fort Lauderdale     Florida   \n",
       "4  Standard Class   Consumer  United States      Los Angeles  California   \n",
       "\n",
       "   Postal Code Region         Category Sub-Category    Sales  Quantity  \\\n",
       "0        42420  South        Furniture    Bookcases  261.960         2   \n",
       "1        42420  South        Furniture       Chairs  731.940         3   \n",
       "2        90036   West  Office Supplies       Labels   14.620         2   \n",
       "3        33311  South  Office Supplies      Storage   22.368         2   \n",
       "4        90032   West        Furniture  Furnishings   48.860         7   \n",
       "\n",
       "   Discount    Profit  \n",
       "0       0.0   41.9136  \n",
       "1       0.0  219.5820  \n",
       "2       0.0    6.8714  \n",
       "3       0.2    2.5164  \n",
       "4       0.0   14.1694  "
      ]
     },
     "execution_count": 14,
     "metadata": {},
     "output_type": "execute_result"
    }
   ],
   "source": [
    "state_pos2['Discount'].value_counts().reindex(df.Discount.unique(), fill_value=0).sort_values()\n",
    "state_neg2['Discount'].value_counts().reindex(df.Discount.unique(), fill_value=0)\n",
    "state_pos2.head()"
   ]
  },
  {
   "cell_type": "code",
   "execution_count": 15,
   "id": "92b02a7d",
   "metadata": {},
   "outputs": [
    {
     "data": {
      "image/png": "[encoded data removed]",
      "text/plain": [
       "<Figure size 720x360 with 1 Axes>"
      ]
     },
     "metadata": {
      "needs_background": "light"
     },
     "output_type": "display_data"
    }
   ],
   "source": [
    "fig,ax = plt.subplots(figsize=(10,5))\n",
    "def plot_cat(ax):\n",
    "    dftn=state_neg2.groupby('Category', as_index=False)['Profit'].count()\n",
    "    ax.bar(dftn['Category'],dftn['Profit'],color='#23D996',edgecolor='black',width=0.3)\n",
    "    ax.set_title(label=\"Count of items in each category which faced loss\", loc='center', pad=None)\n",
    "    ax.set_ylabel('Count')\n",
    "    ax.set_xlabel('Category')\n",
    "plot_cat(ax)\n",
    "plt.show()"
   ]
  },
  {
   "cell_type": "markdown",
   "id": "8105b60a",
   "metadata": {},
   "source": [
    "#### It can be seen that maximum items belonging to OFFICE SUPPLIES category have faced loss followed by FURNITURE\n"
   ]
  },
  {
   "cell_type": "markdown",
   "id": "141e270d",
   "metadata": {},
   "source": [
    "### Now lets find the effect of Profit and Discount on each Category\n"
   ]
  },
  {
   "cell_type": "code",
   "execution_count": 16,
   "id": "72d56edf",
   "metadata": {},
   "outputs": [
    {
     "data": {
      "image/png": "[encoded data removed]",
      "text/plain": [
       "<Figure size 720x360 with 1 Axes>"
      ]
     },
     "metadata": {
      "needs_background": "light"
     },
     "output_type": "display_data"
    }
   ],
   "source": [
    "fig,ax = plt.subplots(figsize=(10,5))\n",
    "def plot_disccat(ax):\n",
    "    sns.scatterplot(x=\"Discount\", y=\"Profit\", data=df, hue=\"Category\",ax=ax,s=200,palette='YlOrRd',edgecolor='brown')\n",
    "    ax.legend(loc=1, fontsize='large',edgecolor='black', borderpad=1.0, shadow=True)\n",
    "    ax.set_title('Profit achieved by each Category for each Discount value.')\n",
    "plot_disccat(ax)\n",
    "plt.show()"
   ]
  },
  {
   "cell_type": "markdown",
   "id": "dd847e29",
   "metadata": {},
   "source": [
    "\n",
    "It can be seen that OFFICE SUPPLIES has faced maximum loss due to giving high discount (of 0.8) many times. Whereas other categories are profitable with low discounts."
   ]
  },
  {
   "cell_type": "markdown",
   "id": "588d1828",
   "metadata": {},
   "source": [
    "### 4. Based on Discount\n"
   ]
  },
  {
   "cell_type": "markdown",
   "id": "3c8ac227",
   "metadata": {},
   "source": [
    "### Now we will find the count of discounts offered where the company faced profit and loss respectively.\n"
   ]
  },
  {
   "cell_type": "code",
   "execution_count": 17,
   "id": "be99c212",
   "metadata": {},
   "outputs": [
    {
     "data": {
      "image/png": "[encoded data removed]",
      "text/plain": [
       "<Figure size 720x432 with 1 Axes>"
      ]
     },
     "metadata": {
      "needs_background": "light"
     },
     "output_type": "display_data"
    },
    {
     "data": {
      "text/plain": [
       "Text(3.1999999999999957, 0.5, 'Profit count')"
      ]
     },
     "execution_count": 17,
     "metadata": {},
     "output_type": "execute_result"
    }
   ],
   "source": [
    "fig,(ax1) = plt.subplots(nrows=1, ncols=1,figsize=(10,6))\n",
    "def plot_disc(ax,x):\n",
    "    x['Discount'].value_counts().plot(kind = 'bar',color='#84EB69',edgecolor='black',ax=ax)\n",
    "    ax.set_xlabel('Discount')\n",
    "    plt.show()\n",
    "plot_disc(ax1,state_neg2)\n",
    "\n",
    "ax1.set_ylabel('Loss count')\n",
    "ax1.set_title(label=\"Count of discounts offered where\\n store faced Loss\", loc='center', pad=None)\n",
    "ax1.set_title(label=\"Count of discounts offered where\\n store faced Profit\", loc='center', pad=None)\n",
    "ax1.set_ylabel('Profit count')"
   ]
  },
  {
   "cell_type": "code",
   "execution_count": 20,
   "id": "2bad9de7",
   "metadata": {},
   "outputs": [
    {
     "data": {
      "text/plain": [
       "<Figure size 432x288 with 0 Axes>"
      ]
     },
     "metadata": {},
     "output_type": "display_data"
    },
    {
     "data": {
      "image/png": "[encoded data removed]",
      "text/plain": [
       "<Figure size 360x216 with 1 Axes>"
      ]
     },
     "metadata": {
      "needs_background": "light"
     },
     "output_type": "display_data"
    },
    {
     "data": {
      "image/png": "[encoded data removed]",
      "text/plain": [
       "<Figure size 360x216 with 1 Axes>"
      ]
     },
     "metadata": {
      "needs_background": "light"
     },
     "output_type": "display_data"
    },
    {
     "data": {
      "image/png": "[encoded data removed]",
      "text/plain": [
       "<Figure size 360x216 with 1 Axes>"
      ]
     },
     "metadata": {
      "needs_background": "light"
     },
     "output_type": "display_data"
    },
    {
     "data": {
      "text/plain": [
       "<Figure size 432x288 with 0 Axes>"
      ]
     },
     "metadata": {},
     "output_type": "display_data"
    },
    {
     "data": {
      "image/png": "[encoded data removed]",
      "text/plain": [
       "<Figure size 360x216 with 1 Axes>"
      ]
     },
     "metadata": {
      "needs_background": "light"
     },
     "output_type": "display_data"
    }
   ],
   "source": [
    "# plotting the graphs\n",
    "plt.tight_layout()\n",
    "fig,ax = plt.subplots(figsize=(5,3))\n",
    "def plot_cat(ax):\n",
    "    dftn=state_neg2.groupby('Category', as_index=False)['Profit'].count()\n",
    "    ax.bar(dftn['Category'],dftn['Profit'],color='#23D996',edgecolor='black',width=0.3)\n",
    "    ax.set_title(label=\"Count of items in each category which faced loss\", loc='center', pad=None)\n",
    "    ax.set_ylabel('Count')\n",
    "    ax.set_xlabel('Category')\n",
    "plot_cat(ax)\n",
    "plt.show()\n",
    "fig,ax = plt.subplots(figsize=(5,3))\n",
    "def plot_disccat(ax):\n",
    "    sns.scatterplot(x=\"Discount\", y=\"Profit\", data=df, hue=\"Category\",ax=ax,s=200,palette='YlOrRd',edgecolor='brown')\n",
    "    ax.legend(loc=1, fontsize='large',edgecolor='black', borderpad=1.0, shadow=True)\n",
    "    ax.set_title('Profit achieved by each Category for each Discount value.')\n",
    "plot_disccat(ax)\n",
    "plt.show()\n",
    "\n",
    "fig,ax = plt.subplots(figsize=(5,3))\n",
    "def plot_region(ax):\n",
    "    d={'Central':'r','East':'b','South':'orange','West':'g'}\n",
    "    dft['color'] = dft['Region'].map(d)\n",
    "    sns.barplot(data=dft, x=dft.State, y='Profit', hue='Region', palette=d, dodge=False, edgecolor='black')\n",
    "    ax.set_xticklabels(dft['State'],rotation=90)\n",
    "    ax.set_title(label=\"Number of items faced loss in each state (Divided by Region)\", loc='center', pad=None)\n",
    "    ax.set_ylabel('Count')\n",
    "    ax.set_xlabel('State')\n",
    "    ax.legend(loc=1, fontsize='large',edgecolor='black', borderpad=1.0, title=\"Region\", shadow=True)\n",
    "    plt.show()\n",
    "plot_region(ax)\n",
    "plt.tight_layout()\n",
    "\n",
    "fig,ax = plt.subplots(figsize=(5,3))\n",
    "def plot_state(ax):\n",
    "    ax.bar(state_neg['State'],state_neg['Profit'],color='#e3c05f',edgecolor='black') \n",
    "#ax.legend(label, loc='upper center', fontsize='large',edgecolor='black', borderpad=1.0, shadow=True, handlelength=0)\n",
    "    ax.set_title(label=\"States which faced Loss\", loc='center', pad=None)\n",
    "    ax.set_ylabel('Loss')\n",
    "    ax.set_xlabel('States')\n",
    "plot_state(ax)\n",
    "plt.tight_layout()\n"
   ]
  },
  {
   "cell_type": "markdown",
   "id": "89bbb8da",
   "metadata": {},
   "source": [
    "As seen in the graphs we can conclude that we neeed to work on states like Texas, Ohio, Pennsylvania, Illinois and also on Office Supplies Category.¶\n",
    "Giving discount of 0.2 yields maximum times Loss(500). But the profit count of it is exeptionally high (nearly 3000) too. Also for discounts < 0.2 loss count is low"
   ]
  },
  {
   "cell_type": "markdown",
   "id": "8f2c3df8",
   "metadata": {},
   "source": [
    "#### Hence it can be concluded that giving high discounts can lead to Loss.¶\n"
   ]
  },
  {
   "cell_type": "markdown",
   "id": "6fe5ddcc",
   "metadata": {},
   "source": [
    "### Solutions"
   ]
  },
  {
   "cell_type": "markdown",
   "id": "b5e51dc2",
   "metadata": {},
   "source": [
    "### 1. Giving low discount ( < 15%) on Office Sales products.\n"
   ]
  },
  {
   "cell_type": "markdown",
   "id": "562dfbf1",
   "metadata": {},
   "source": [
    "### 2. Advertising and improvising sales in some Central and Eastern states like Texas and Ohio using low discount, great deals etc.\n"
   ]
  },
  {
   "cell_type": "code",
   "execution_count": null,
   "id": "7a985479",
   "metadata": {},
   "outputs": [],
   "source": []
  }
 ],
 "metadata": {
  "kernelspec": {
   "display_name": "Python 3 (ipykernel)",
   "language": "python",
   "name": "python3"
  },
  "language_info": {
   "codemirror_mode": {
    "name": "ipython",
    "version": 3
   },
   "file_extension": ".py",
   "mimetype": "text/x-python",
   "name": "python",
   "nbconvert_exporter": "python",
   "pygments_lexer": "ipython3",
   "version": "3.9.6"
  }
 },
 "nbformat": 4,
 "nbformat_minor": 5
}
